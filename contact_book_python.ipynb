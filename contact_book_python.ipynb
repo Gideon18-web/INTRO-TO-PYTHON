{
  "nbformat": 4,
  "nbformat_minor": 0,
  "metadata": {
    "colab": {
      "provenance": [],
      "authorship_tag": "ABX9TyN8ttYEdoQvvuFQ/GCuFsR0",
      "include_colab_link": true
    },
    "kernelspec": {
      "name": "python3",
      "display_name": "Python 3"
    },
    "language_info": {
      "name": "python"
    }
  },
  "cells": [
    {
      "cell_type": "markdown",
      "metadata": {
        "id": "view-in-github",
        "colab_type": "text"
      },
      "source": [
        "<a href=\"https://colab.research.google.com/github/Gideon18-web/INTRO-TO-PYTHON/blob/main/contact_book_python.ipynb\" target=\"_parent\"><img src=\"https://colab.research.google.com/assets/colab-badge.svg\" alt=\"Open In Colab\"/></a>"
      ]
    },
    {
      "cell_type": "code",
      "execution_count": null,
      "metadata": {
        "id": "sTmDllpzWCOs"
      },
      "outputs": [],
      "source": []
    },
    {
      "cell_type": "markdown",
      "source": [
        "Task: Contact book file\n",
        "Build a small contact book using a file:\n",
        "\n",
        "Each contact: name, phone, email\n",
        "\n",
        "Save each contact in contacts.txt\n",
        "\n",
        "Menu: Add contact, View contacts, Search by name\n"
      ],
      "metadata": {
        "id": "1MRWkInTWR_I"
      }
    },
    {
      "cell_type": "code",
      "source": [
        "def add_contact():\n",
        "    name = input(\"Name: \")\n",
        "    phone = input(\"Phone: \")\n",
        "    email = input(\"Email: \")\n",
        "    with open(\"contacts.txt\", \"a\") as file:\n",
        "        file.write(name + \",\" + phone + \",\" + email + \"\\n\")\n",
        "    print(\"Contact added.\\n\")\n",
        "\n",
        "def view_contacts():\n",
        "    try:\n",
        "        with open(\"contacts.txt\", \"r\") as file:\n",
        "            for line in file:\n",
        "                parts = line.strip().split(\",\")\n",
        "                print(\"Name:\", parts[0], \"| Phone:\", parts[1], \"| Email:\", parts[2])\n",
        "    except:\n",
        "        print(\"No contacts yet.\\n\")\n",
        "\n",
        "def search_contact():\n",
        "    name = input(\"Enter name to search: \").lower()\n",
        "    found = False\n",
        "    try:\n",
        "        with open(\"contacts.txt\", \"r\") as file:\n",
        "            for line in file:\n",
        "                if name in line.lower():\n",
        "                    parts = line.strip().split(\",\")\n",
        "                    print(\"Name:\", parts[0], \"| Phone:\", parts[1], \"| Email:\", parts[2])\n",
        "                    found = True\n",
        "        if not found:\n",
        "            print(\"Not found.\\n\")\n",
        "    except:\n",
        "        print(\"No contacts yet.\\n\")\n",
        "\n",
        "def menu():\n",
        "    while True:\n",
        "        print(\"\\n1. Add  2. View  3. Search  4. Exit\")\n",
        "        choice = input(\"Choose: \")\n",
        "        if choice == \"1\":\n",
        "            add_contact()\n",
        "        elif choice == \"2\":\n",
        "            view_contacts()\n",
        "        elif choice == \"3\":\n",
        "            search_contact()\n",
        "        elif choice == \"4\":\n",
        "            break\n",
        "        else:\n",
        "            print(\"Invalid choice.\\n\")\n",
        "\n",
        "menu()\n"
      ],
      "metadata": {
        "colab": {
          "base_uri": "https://localhost:8080/"
        },
        "id": "bAvyn1a4WcJY",
        "outputId": "ad0ac9f0-3833-405b-ce86-f8d6c9504432"
      },
      "execution_count": 3,
      "outputs": [
        {
          "name": "stdout",
          "output_type": "stream",
          "text": [
            "\n",
            "1. Add  2. View  3. Search  4. Exit\n",
            "Choose: gi\n",
            "Invalid choice.\n",
            "\n",
            "\n",
            "1. Add  2. View  3. Search  4. Exit\n",
            "Choose: 1\n",
            "Name: 1\n",
            "Phone: gideon m\n",
            "Email: mmmmm@gmail.com\n",
            "Contact added.\n",
            "\n",
            "\n",
            "1. Add  2. View  3. Search  4. Exit\n",
            "Choose: 3\n",
            "Enter name to search: gi\n",
            "Name: Gideon M | Phone: 0704783433 | Email: gmm@gmail.com\n",
            "Name: 1 | Phone: gideon m | Email: mmmmm@gmail.com\n",
            "\n",
            "1. Add  2. View  3. Search  4. Exit\n",
            "Choose: 4\n"
          ]
        }
      ]
    },
    {
      "cell_type": "code",
      "source": [],
      "metadata": {
        "id": "HaAxfPeUWl1w"
      },
      "execution_count": 1,
      "outputs": []
    }
  ]
}