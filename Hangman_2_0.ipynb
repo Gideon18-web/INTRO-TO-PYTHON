{
  "nbformat": 4,
  "nbformat_minor": 0,
  "metadata": {
    "colab": {
      "provenance": [],
      "authorship_tag": "ABX9TyMPIezsDEON+wHRUxOpIw8u",
      "include_colab_link": true
    },
    "kernelspec": {
      "name": "python3",
      "display_name": "Python 3"
    },
    "language_info": {
      "name": "python"
    }
  },
  "cells": [
    {
      "cell_type": "markdown",
      "metadata": {
        "id": "view-in-github",
        "colab_type": "text"
      },
      "source": [
        "<a href=\"https://colab.research.google.com/github/Gideon18-web/INTRO-TO-PYTHON/blob/main/Hangman_2_0.ipynb\" target=\"_parent\"><img src=\"https://colab.research.google.com/assets/colab-badge.svg\" alt=\"Open In Colab\"/></a>"
      ]
    },
    {
      "cell_type": "code",
      "execution_count": null,
      "metadata": {
        "colab": {
          "base_uri": "https://localhost:8080/"
        },
        "id": "TxXnkktn6dku",
        "outputId": "0d0e7959-633b-4cc5-de50-a819f563af8c"
      },
      "outputs": [
        {
          "name": "stdout",
          "output_type": "stream",
          "text": [
            "\n",
            "Word: _ _ _ _ _\n",
            "Tries left: 5\n",
            "Guess a letter: o\n",
            "Wrong guess!\n",
            "\n",
            "Word: _ _ _ _ _\n",
            "Tries left: 4\n",
            "Guess a letter: e\n",
            "Good guess!\n",
            "\n",
            "Word: _ _ _ _ e\n",
            "Tries left: 4\n",
            "Guess a letter: u\n",
            "Wrong guess!\n",
            "\n",
            "Word: _ _ _ _ e\n",
            "Tries left: 3\n",
            "Guess a letter: z\n",
            "Wrong guess!\n",
            "\n",
            "Word: _ _ _ _ e\n",
            "Tries left: 2\n",
            "Guess a letter: z\n",
            "You already guessed that letter.\n",
            "\n",
            "Word: _ _ _ _ e\n",
            "Tries left: 2\n",
            "Guess a letter: r\n"
          ]
        }
      ],
      "source": [
        "import random\n",
        "\n",
        "#List of 5-letter words\n",
        "words = ['apple', 'grape', 'plane', 'house', 'zebra']\n",
        "word = random.choice(words)  # Randomly select a word\n",
        "\n",
        "#Game setup\n",
        "guessed = ['_'] * len(word)\n",
        "tries = 5\n",
        "guessed_letters = []\n",
        "\n",
        "#Game's main loop\n",
        "while tries > 0 and '_' in guessed:\n",
        "    print(\"\\nWord:\", ' '.join(guessed))\n",
        "    print(\"Tries left:\", tries)\n",
        "    guess = input(\"Guess a letter: \").lower()\n",
        "\n",
        "    if not guess.isalpha() or len(guess) != 1:\n",
        "        print(\"Please enter a single letter.\")\n",
        "        continue\n",
        "\n",
        "    if guess in guessed_letters:\n",
        "        print(\"You already guessed that letter.\")\n",
        "        continue\n",
        "\n",
        "    guessed_letters.append(guess)\n",
        "\n",
        "    if guess in word:\n",
        "        for i in range(len(word)):\n",
        "            if word[i] == guess:\n",
        "                guessed[i] = guess\n",
        "        print(\"Good guess!\")\n",
        "    else:\n",
        "        tries -= 1\n",
        "        print(\"Wrong guess!\")\n",
        "\n",
        "#Final Game result\n",
        "if '_' not in guessed:\n",
        "    print(\"\\nCongratulations! You guessed the word:\", word)\n",
        "else:\n",
        "    print(\"\\nGame Over! The word was:\", word)\n"
      ]
    },
    {
      "cell_type": "code",
      "source": [],
      "metadata": {
        "id": "O_UQXfQwGL9x"
      },
      "execution_count": null,
      "outputs": []
    }
  ]
}